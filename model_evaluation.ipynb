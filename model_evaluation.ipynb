{
 "cells": [
  {
   "cell_type": "markdown",
   "id": "e43d71b4",
   "metadata": {},
   "source": [
    "# Model Evaluation Exercises\n",
    "\n",
    "#### Given the following confusion matrix, evaluate (by hand) the model's performance.\n",
    "|               | pred dog   | pred cat   |\n",
    "|:------------  |-----------:|-----------:|\n",
    "| actual dog    |         46 |         7  |\n",
    "| actual cat    |         13 |         34 |\n",
    "\n",
    "- **In the context of this problem, what is a false positive?**\n",
    "- **In the context of this problem, what is a false negative?**\n",
    "- **How would you describe this model?**"
   ]
  },
  {
   "cell_type": "markdown",
   "id": "ad008e07",
   "metadata": {},
   "source": [
    "False Positive: Predict dog when it is actually a cat\n",
    "\n",
    "False Negative: Predict cat when it is actually a dog\n",
    "\n",
    "This model is a dog classifier."
   ]
  },
  {
   "cell_type": "code",
   "execution_count": 5,
   "id": "3cf478a6",
   "metadata": {},
   "outputs": [
    {
     "name": "stdout",
     "output_type": "stream",
     "text": [
      "Accuracy: 80.00%\n",
      "Recall: 86.79%\n",
      "Precision: 77.97%\n",
      "F1 Score: 82.14%\n"
     ]
    }
   ],
   "source": [
    "TP, TN, FP, FN = 46, 34, 13, 7\n",
    "accuracy = (TP+TN)/(TP+TN+FP+FN)\n",
    "recall = TP/(TP+FN)\n",
    "precision = TP/(TP+FP)\n",
    "F1_score = (2*precision*recall)/(precision+recall) \n",
    "print(f'Accuracy: {accuracy:.2%}\\nRecall: {recall:.2%}\\nPrecision: {precision:.2%}\\nF1 Score: {F1_score:.2%}')"
   ]
  },
  {
   "cell_type": "markdown",
   "id": "a5367c57",
   "metadata": {},
   "source": [
    "#### 3. You are working as a datascientist working for Codeup Cody Creator (C3 for short), a rubber-duck manufacturing plant.\n",
    "\n",
    "#### Unfortunately, some of the rubber ducks that are produced will have defects. Your team has built several models that try to predict those defects, and the data from their predictions can be found in `c3.csv`.\n",
    "\n",
    "#### Use the predictions dataset and pandas to help answer the following questions:\n",
    "\n",
    "- **An internal team wants to investigate the cause of the manufacturing defects. They tell you that they want to identify as many of the ducks that have a defect as possible. Which evaluation metric would be appropriate here? Which model would be the best fit for this use case?**"
   ]
  },
  {
   "cell_type": "code",
   "execution_count": 8,
   "id": "e988a1ae",
   "metadata": {},
   "outputs": [
    {
     "data": {
      "text/html": [
       "<div>\n",
       "<style scoped>\n",
       "    .dataframe tbody tr th:only-of-type {\n",
       "        vertical-align: middle;\n",
       "    }\n",
       "\n",
       "    .dataframe tbody tr th {\n",
       "        vertical-align: top;\n",
       "    }\n",
       "\n",
       "    .dataframe thead th {\n",
       "        text-align: right;\n",
       "    }\n",
       "</style>\n",
       "<table border=\"1\" class=\"dataframe\">\n",
       "  <thead>\n",
       "    <tr style=\"text-align: right;\">\n",
       "      <th></th>\n",
       "      <th>actual</th>\n",
       "      <th>model1</th>\n",
       "      <th>model2</th>\n",
       "      <th>model3</th>\n",
       "    </tr>\n",
       "  </thead>\n",
       "  <tbody>\n",
       "    <tr>\n",
       "      <th>0</th>\n",
       "      <td>No Defect</td>\n",
       "      <td>No Defect</td>\n",
       "      <td>Defect</td>\n",
       "      <td>No Defect</td>\n",
       "    </tr>\n",
       "    <tr>\n",
       "      <th>1</th>\n",
       "      <td>No Defect</td>\n",
       "      <td>No Defect</td>\n",
       "      <td>Defect</td>\n",
       "      <td>Defect</td>\n",
       "    </tr>\n",
       "    <tr>\n",
       "      <th>2</th>\n",
       "      <td>No Defect</td>\n",
       "      <td>No Defect</td>\n",
       "      <td>Defect</td>\n",
       "      <td>No Defect</td>\n",
       "    </tr>\n",
       "    <tr>\n",
       "      <th>3</th>\n",
       "      <td>No Defect</td>\n",
       "      <td>Defect</td>\n",
       "      <td>Defect</td>\n",
       "      <td>Defect</td>\n",
       "    </tr>\n",
       "    <tr>\n",
       "      <th>4</th>\n",
       "      <td>No Defect</td>\n",
       "      <td>No Defect</td>\n",
       "      <td>Defect</td>\n",
       "      <td>No Defect</td>\n",
       "    </tr>\n",
       "  </tbody>\n",
       "</table>\n",
       "</div>"
      ],
      "text/plain": [
       "      actual     model1  model2     model3\n",
       "0  No Defect  No Defect  Defect  No Defect\n",
       "1  No Defect  No Defect  Defect     Defect\n",
       "2  No Defect  No Defect  Defect  No Defect\n",
       "3  No Defect     Defect  Defect     Defect\n",
       "4  No Defect  No Defect  Defect  No Defect"
      ]
     },
     "execution_count": 8,
     "metadata": {},
     "output_type": "execute_result"
    }
   ],
   "source": [
    "import pandas as pd\n",
    "c3 = pd.read_csv('c3.csv')\n",
    "c3.head()"
   ]
  },
  {
   "cell_type": "markdown",
   "id": "255a7360",
   "metadata": {},
   "source": [
    "Positive: Duck is defective\n",
    "\n",
    "Negative: Duck is not defective\n",
    "\n",
    "- TP: Defective duck is predicted as defective\n",
    "- TN: Normal duck is predicted as not defective\n",
    "- FP: Normal duck is predicted as defective\n",
    "- FN: Defective duck is predicted as not defective\n",
    "\n",
    "Goal: Identify as many defective ducks as possible.\n",
    "\n",
    "Cost of false negatives is greater than cost of false positives, choose recall as evaluation metric."
   ]
  },
  {
   "cell_type": "code",
   "execution_count": 10,
   "id": "8642e3a9",
   "metadata": {},
   "outputs": [
    {
     "data": {
      "text/plain": [
       "No Defect    184\n",
       "Defect        16\n",
       "Name: actual, dtype: int64"
      ]
     },
     "execution_count": 10,
     "metadata": {},
     "output_type": "execute_result"
    }
   ],
   "source": [
    "c3.actual.value_counts()"
   ]
  },
  {
   "cell_type": "code",
   "execution_count": 11,
   "id": "1faa58b0",
   "metadata": {},
   "outputs": [
    {
     "data": {
      "text/html": [
       "<div>\n",
       "<style scoped>\n",
       "    .dataframe tbody tr th:only-of-type {\n",
       "        vertical-align: middle;\n",
       "    }\n",
       "\n",
       "    .dataframe tbody tr th {\n",
       "        vertical-align: top;\n",
       "    }\n",
       "\n",
       "    .dataframe thead th {\n",
       "        text-align: right;\n",
       "    }\n",
       "</style>\n",
       "<table border=\"1\" class=\"dataframe\">\n",
       "  <thead>\n",
       "    <tr style=\"text-align: right;\">\n",
       "      <th></th>\n",
       "      <th>actual</th>\n",
       "      <th>model1</th>\n",
       "      <th>model2</th>\n",
       "      <th>model3</th>\n",
       "      <th>baseline</th>\n",
       "    </tr>\n",
       "  </thead>\n",
       "  <tbody>\n",
       "    <tr>\n",
       "      <th>0</th>\n",
       "      <td>No Defect</td>\n",
       "      <td>No Defect</td>\n",
       "      <td>Defect</td>\n",
       "      <td>No Defect</td>\n",
       "      <td>No Defect</td>\n",
       "    </tr>\n",
       "    <tr>\n",
       "      <th>1</th>\n",
       "      <td>No Defect</td>\n",
       "      <td>No Defect</td>\n",
       "      <td>Defect</td>\n",
       "      <td>Defect</td>\n",
       "      <td>No Defect</td>\n",
       "    </tr>\n",
       "    <tr>\n",
       "      <th>2</th>\n",
       "      <td>No Defect</td>\n",
       "      <td>No Defect</td>\n",
       "      <td>Defect</td>\n",
       "      <td>No Defect</td>\n",
       "      <td>No Defect</td>\n",
       "    </tr>\n",
       "    <tr>\n",
       "      <th>3</th>\n",
       "      <td>No Defect</td>\n",
       "      <td>Defect</td>\n",
       "      <td>Defect</td>\n",
       "      <td>Defect</td>\n",
       "      <td>No Defect</td>\n",
       "    </tr>\n",
       "    <tr>\n",
       "      <th>4</th>\n",
       "      <td>No Defect</td>\n",
       "      <td>No Defect</td>\n",
       "      <td>Defect</td>\n",
       "      <td>No Defect</td>\n",
       "      <td>No Defect</td>\n",
       "    </tr>\n",
       "  </tbody>\n",
       "</table>\n",
       "</div>"
      ],
      "text/plain": [
       "      actual     model1  model2     model3   baseline\n",
       "0  No Defect  No Defect  Defect  No Defect  No Defect\n",
       "1  No Defect  No Defect  Defect     Defect  No Defect\n",
       "2  No Defect  No Defect  Defect  No Defect  No Defect\n",
       "3  No Defect     Defect  Defect     Defect  No Defect\n",
       "4  No Defect  No Defect  Defect  No Defect  No Defect"
      ]
     },
     "execution_count": 11,
     "metadata": {},
     "output_type": "execute_result"
    }
   ],
   "source": [
    "c3['baseline'] = 'No Defect'\n",
    "c3.head()"
   ]
  },
  {
   "cell_type": "code",
   "execution_count": 13,
   "id": "98b53f23",
   "metadata": {},
   "outputs": [
    {
     "name": "stdout",
     "output_type": "stream",
     "text": [
      "Baseline Recall: 0.00%\n",
      "Model 1 Recall: 50.00%\n",
      "Model 2 Recall: 56.25%\n",
      "Model 3 Recall: 81.25%\n"
     ]
    }
   ],
   "source": [
    "recall_subset = c3[c3.actual == 'Defect']\n",
    "baseline_recall = (recall_subset.actual == recall_subset.baseline).mean()\n",
    "m1_recall = (recall_subset.actual == recall_subset.model1).mean()\n",
    "m2_recall = (recall_subset.actual == recall_subset.model2).mean()\n",
    "m3_recall = (recall_subset.actual == recall_subset.model3).mean()\n",
    "print(f'Baseline Recall: {baseline_recall:.2%}')\n",
    "print(f'Model 1 Recall: {m1_recall:.2%}')\n",
    "print(f'Model 2 Recall: {m2_recall:.2%}')\n",
    "print(f'Model 3 Recall: {m3_recall:.2%}')"
   ]
  },
  {
   "cell_type": "markdown",
   "id": "da3fc07f",
   "metadata": {},
   "source": [
    "When using recall as our evaluation metric, Model 3 is the best fit."
   ]
  },
  {
   "cell_type": "markdown",
   "id": "2e01e7bd",
   "metadata": {},
   "source": [
    "- **Recently several stories in the local news have come out highlighting customers who received a rubber duck with a defect, and portraying C3 in a bad light. The PR team has decided to launch a program that gives customers with a defective duck a vacation to Hawaii. They need you to predict which ducks will have defects, but tell you they really don't want to accidentally give out a vacation package when the duck really doesn't have a defect. Which evaluation metric would be appropriate here? Which model would be the best fit for this use case?**"
   ]
  },
  {
   "cell_type": "markdown",
   "id": "e5c948f0",
   "metadata": {},
   "source": [
    "Precision would be appropriate as our evaluation metric in this case because the cost of false positives (predicting a normal duck as defective) is greater than the cost of false negatives (predicting a defective duck as not defective)."
   ]
  },
  {
   "cell_type": "code",
   "execution_count": 30,
   "id": "7791a767",
   "metadata": {},
   "outputs": [
    {
     "data": {
      "text/plain": [
       "['model1', 'model2', 'model3']"
      ]
     },
     "execution_count": 30,
     "metadata": {},
     "output_type": "execute_result"
    }
   ],
   "source": [
    "c3_cols = list(c3.columns)\n",
    "c3_cols.remove('actual')\n",
    "c3_cols.remove('baseline')\n",
    "c3_cols"
   ]
  },
  {
   "cell_type": "code",
   "execution_count": 33,
   "id": "eddb84d4",
   "metadata": {},
   "outputs": [
    {
     "name": "stdout",
     "output_type": "stream",
     "text": [
      "baseline precision: nan%\n",
      "model1 precision: 80.00%\n",
      "model2 precision: 10.00%\n",
      "model3 precision: 13.13%\n"
     ]
    }
   ],
   "source": [
    "for col in c3_cols:\n",
    "    subset = c3[c3[col] == 'Defect']\n",
    "    precision = (subset.actual == subset[col]).mean()\n",
    "    print(f'{col} precision: {precision:.2%}')"
   ]
  },
  {
   "cell_type": "markdown",
   "id": "496b5ecb",
   "metadata": {},
   "source": [
    "When using precision as our evaluation metric, Model 1 is the best fit."
   ]
  },
  {
   "cell_type": "markdown",
   "id": "9368aa4e",
   "metadata": {},
   "source": [
    "#### 4. You are working as a data scientist for Gives You Paws ™, a subscription based service that shows you cute pictures of dogs or cats (or both for an additional fee).\n",
    "\n",
    "#### At Gives You Paws, anyone can upload pictures of their cats or dogs. The photos are then put through a two step process. First an automated algorithm tags pictures as either a cat or a dog (Phase I). Next, the photos that have been initially identified are put through another round of review, possibly with some human oversight, before being presented to the users (Phase II).\n",
    "\n",
    "#### Several models have already been developed with the data, and you can find their results in `gives_you_paws.csv`.\n",
    "\n",
    "#### Given this dataset, use pandas to create a baseline model (i.e. a model that just predicts the most common class) and answer the following questions:\n",
    "\n",
    "#### a. In terms of accuracy, how do the various models compare to the baseline model? Are any of the models better than the baseline?"
   ]
  },
  {
   "cell_type": "code",
   "execution_count": null,
   "id": "c965d2ee",
   "metadata": {},
   "outputs": [],
   "source": []
  },
  {
   "cell_type": "markdown",
   "id": "211bce74",
   "metadata": {},
   "source": [
    "#### b. Suppose you are working on a team that solely deals with dog pictures. Which of these models would you recomend for Phase I? For Phase II?"
   ]
  },
  {
   "cell_type": "code",
   "execution_count": null,
   "id": "72a43cd5",
   "metadata": {},
   "outputs": [],
   "source": []
  },
  {
   "cell_type": "markdown",
   "id": "3ca5b5ac",
   "metadata": {},
   "source": [
    "#### c. Suppose you are working on a team that solely deals with cat pictures. Which of these models would you recomend for Phase I? For Phase II?"
   ]
  },
  {
   "cell_type": "code",
   "execution_count": null,
   "id": "7938067a",
   "metadata": {},
   "outputs": [],
   "source": []
  },
  {
   "cell_type": "markdown",
   "id": "78a710aa",
   "metadata": {},
   "source": [
    "#### 5. Follow the links below to read the documentation about each function, then apply those functions to the data from the previous problem.\n",
    "- sklearn.metrics.accuracy_score\n",
    "- sklearn.metrics.precision_score\n",
    "- sklearn.metrics.recall_score\n",
    "- sklearn.metrics.classification_report"
   ]
  },
  {
   "cell_type": "code",
   "execution_count": null,
   "id": "cbd2eb51",
   "metadata": {},
   "outputs": [],
   "source": []
  }
 ],
 "metadata": {
  "kernelspec": {
   "display_name": "Python 3",
   "language": "python",
   "name": "python3"
  },
  "language_info": {
   "codemirror_mode": {
    "name": "ipython",
    "version": 3
   },
   "file_extension": ".py",
   "mimetype": "text/x-python",
   "name": "python",
   "nbconvert_exporter": "python",
   "pygments_lexer": "ipython3",
   "version": "3.8.8"
  }
 },
 "nbformat": 4,
 "nbformat_minor": 5
}
