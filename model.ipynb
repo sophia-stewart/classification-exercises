{
 "cells": [
  {
   "cell_type": "markdown",
   "id": "88258db4",
   "metadata": {},
   "source": [
    "# Decision Tree Exercises\n",
    "\n",
    "#### Using the titanic data, in your classification-exercises repository, create a notebook, model.ipynb where you will do the following:"
   ]
  },
  {
   "cell_type": "markdown",
   "id": "c1bc5550",
   "metadata": {},
   "source": [
    "#### 1. What is your baseline prediction? What is your baseline accuracy? *remember: your baseline prediction for a classification problem is predicting the most prevelant class in the training dataset (the mode). When you make those predictions, what is your accuracy? This is your baseline accuracy.*\n",
    "\n"
   ]
  },
  {
   "cell_type": "code",
   "execution_count": 1,
   "id": "d5c91be6",
   "metadata": {},
   "outputs": [],
   "source": [
    "from sklearn.tree import DecisionTreeClassifier\n",
    "from sklearn.tree import export_graphviz\n",
    "import sklearn.metrics\n",
    "\n",
    "import matplotlib.pyplot as plt\n",
    "import seaborn as sns\n",
    "\n",
    "import pandas as pd\n",
    "\n",
    "import acquire\n",
    "import prepare"
   ]
  },
  {
   "cell_type": "code",
   "execution_count": 2,
   "id": "45d17e5a",
   "metadata": {},
   "outputs": [
    {
     "data": {
      "text/html": [
       "<div>\n",
       "<style scoped>\n",
       "    .dataframe tbody tr th:only-of-type {\n",
       "        vertical-align: middle;\n",
       "    }\n",
       "\n",
       "    .dataframe tbody tr th {\n",
       "        vertical-align: top;\n",
       "    }\n",
       "\n",
       "    .dataframe thead th {\n",
       "        text-align: right;\n",
       "    }\n",
       "</style>\n",
       "<table border=\"1\" class=\"dataframe\">\n",
       "  <thead>\n",
       "    <tr style=\"text-align: right;\">\n",
       "      <th></th>\n",
       "      <th>survived</th>\n",
       "      <th>pclass</th>\n",
       "      <th>sex</th>\n",
       "      <th>age</th>\n",
       "      <th>sibsp</th>\n",
       "      <th>parch</th>\n",
       "      <th>fare</th>\n",
       "      <th>embark_town</th>\n",
       "      <th>alone</th>\n",
       "      <th>embark_town_Queenstown</th>\n",
       "      <th>embark_town_Southampton</th>\n",
       "      <th>sex_male</th>\n",
       "    </tr>\n",
       "  </thead>\n",
       "  <tbody>\n",
       "    <tr>\n",
       "      <th>513</th>\n",
       "      <td>1</td>\n",
       "      <td>1</td>\n",
       "      <td>female</td>\n",
       "      <td>54.0</td>\n",
       "      <td>1</td>\n",
       "      <td>0</td>\n",
       "      <td>59.4000</td>\n",
       "      <td>Cherbourg</td>\n",
       "      <td>0</td>\n",
       "      <td>0</td>\n",
       "      <td>0</td>\n",
       "      <td>0</td>\n",
       "    </tr>\n",
       "    <tr>\n",
       "      <th>169</th>\n",
       "      <td>0</td>\n",
       "      <td>3</td>\n",
       "      <td>male</td>\n",
       "      <td>28.0</td>\n",
       "      <td>0</td>\n",
       "      <td>0</td>\n",
       "      <td>56.4958</td>\n",
       "      <td>Southampton</td>\n",
       "      <td>1</td>\n",
       "      <td>0</td>\n",
       "      <td>1</td>\n",
       "      <td>1</td>\n",
       "    </tr>\n",
       "    <tr>\n",
       "      <th>276</th>\n",
       "      <td>0</td>\n",
       "      <td>3</td>\n",
       "      <td>female</td>\n",
       "      <td>45.0</td>\n",
       "      <td>0</td>\n",
       "      <td>0</td>\n",
       "      <td>7.7500</td>\n",
       "      <td>Southampton</td>\n",
       "      <td>1</td>\n",
       "      <td>0</td>\n",
       "      <td>1</td>\n",
       "      <td>0</td>\n",
       "    </tr>\n",
       "    <tr>\n",
       "      <th>541</th>\n",
       "      <td>0</td>\n",
       "      <td>3</td>\n",
       "      <td>female</td>\n",
       "      <td>9.0</td>\n",
       "      <td>4</td>\n",
       "      <td>2</td>\n",
       "      <td>31.2750</td>\n",
       "      <td>Southampton</td>\n",
       "      <td>0</td>\n",
       "      <td>0</td>\n",
       "      <td>1</td>\n",
       "      <td>0</td>\n",
       "    </tr>\n",
       "    <tr>\n",
       "      <th>406</th>\n",
       "      <td>0</td>\n",
       "      <td>3</td>\n",
       "      <td>male</td>\n",
       "      <td>51.0</td>\n",
       "      <td>0</td>\n",
       "      <td>0</td>\n",
       "      <td>7.7500</td>\n",
       "      <td>Southampton</td>\n",
       "      <td>1</td>\n",
       "      <td>0</td>\n",
       "      <td>1</td>\n",
       "      <td>1</td>\n",
       "    </tr>\n",
       "  </tbody>\n",
       "</table>\n",
       "</div>"
      ],
      "text/plain": [
       "     survived  pclass     sex   age  sibsp  parch     fare  embark_town  \\\n",
       "513         1       1  female  54.0      1      0  59.4000    Cherbourg   \n",
       "169         0       3    male  28.0      0      0  56.4958  Southampton   \n",
       "276         0       3  female  45.0      0      0   7.7500  Southampton   \n",
       "541         0       3  female   9.0      4      2  31.2750  Southampton   \n",
       "406         0       3    male  51.0      0      0   7.7500  Southampton   \n",
       "\n",
       "     alone  embark_town_Queenstown  embark_town_Southampton  sex_male  \n",
       "513      0                       0                        0         0  \n",
       "169      1                       0                        1         1  \n",
       "276      1                       0                        1         0  \n",
       "541      0                       0                        1         0  \n",
       "406      1                       0                        1         1  "
      ]
     },
     "execution_count": 2,
     "metadata": {},
     "output_type": "execute_result"
    }
   ],
   "source": [
    "# read titanic data into dataframe\n",
    "titanic = acquire.get_titanic_data()\n",
    "# clean and split data\n",
    "train, validate, test = prepare.prep_titanic(titanic)\n",
    "train.head()"
   ]
  },
  {
   "cell_type": "code",
   "execution_count": 3,
   "id": "22187873",
   "metadata": {},
   "outputs": [
    {
     "data": {
      "text/plain": [
       "0    220\n",
       "1    157\n",
       "Name: survived, dtype: int64"
      ]
     },
     "execution_count": 3,
     "metadata": {},
     "output_type": "execute_result"
    }
   ],
   "source": [
    "# determine most prevalent class\n",
    "train.survived.value_counts()"
   ]
  },
  {
   "cell_type": "code",
   "execution_count": 4,
   "id": "1d94fabc",
   "metadata": {},
   "outputs": [],
   "source": [
    "# create x and y versions of train, validate, and test samples\n",
    "x_train = train.drop(columns=['survived', 'sex', 'embark_town'])\n",
    "y_train = train.survived\n",
    "\n",
    "x_validate = validate.drop(columns=['survived', 'sex', 'embark_town'])\n",
    "y_validate = validate.survived\n",
    "\n",
    "x_test = test.drop(columns=['survived', 'sex', 'embark_town'])\n",
    "y_test = test.survived"
   ]
  },
  {
   "cell_type": "code",
   "execution_count": 5,
   "id": "c4835be8",
   "metadata": {},
   "outputs": [
    {
     "data": {
      "text/plain": [
       "0.583554376657825"
      ]
     },
     "execution_count": 5,
     "metadata": {},
     "output_type": "execute_result"
    }
   ],
   "source": [
    "# create baseline\n",
    "baseline = 0\n",
    "# boolean mask of where baseline was correct\n",
    "matches_baseline = y_train == baseline\n",
    "# calculate baseline accuracy\n",
    "baseline_accuracy = matches_baseline.mean()\n",
    "baseline_accuracy"
   ]
  },
  {
   "cell_type": "markdown",
   "id": "672c1dfa",
   "metadata": {},
   "source": [
    "Our baseline prediction is 0 (did not survive). Our baseline accuracy is about 58.4%."
   ]
  },
  {
   "cell_type": "markdown",
   "id": "c3a9731b",
   "metadata": {},
   "source": [
    "#### 2. Fit the decision tree classifier to your training sample and transform (i.e. make predictions on the training sample)"
   ]
  },
  {
   "cell_type": "code",
   "execution_count": 6,
   "id": "fc50d2b4",
   "metadata": {},
   "outputs": [],
   "source": [
    "tree = DecisionTreeClassifier(max_depth=3, random_state=123)"
   ]
  },
  {
   "cell_type": "code",
   "execution_count": 7,
   "id": "19e15720",
   "metadata": {},
   "outputs": [],
   "source": [
    "tree = tree.fit(x_train, y_train)"
   ]
  },
  {
   "cell_type": "code",
   "execution_count": 8,
   "id": "c601d6ad",
   "metadata": {},
   "outputs": [
    {
     "data": {
      "text/plain": [
       "'titanic_train_decision_tree.pdf'"
      ]
     },
     "execution_count": 8,
     "metadata": {},
     "output_type": "execute_result"
    }
   ],
   "source": [
    "import graphviz\n",
    "from graphviz import Graph\n",
    "\n",
    "dot_data = export_graphviz(tree, feature_names=x_train.columns, class_names=['not survived', 'survived'], rounded=True, filled=True, out_file=None)\n",
    "graph = graphviz.Source(dot_data)\n",
    "\n",
    "graph.render('titanic_train_decision_tree', view=True)"
   ]
  },
  {
   "cell_type": "code",
   "execution_count": 9,
   "id": "afc79802",
   "metadata": {},
   "outputs": [
    {
     "data": {
      "text/plain": [
       "array([1, 0, 1, 1, 0])"
      ]
     },
     "execution_count": 9,
     "metadata": {},
     "output_type": "execute_result"
    }
   ],
   "source": [
    "y_pred = tree.predict(x_train)\n",
    "y_pred[0:5]"
   ]
  },
  {
   "cell_type": "code",
   "execution_count": 10,
   "id": "f70b9276",
   "metadata": {},
   "outputs": [
    {
     "data": {
      "text/plain": [
       "array([[0.03614458, 0.96385542],\n",
       "       [0.89808917, 0.10191083],\n",
       "       [0.45283019, 0.54716981],\n",
       "       [0.45283019, 0.54716981],\n",
       "       [0.89808917, 0.10191083]])"
      ]
     },
     "execution_count": 10,
     "metadata": {},
     "output_type": "execute_result"
    }
   ],
   "source": [
    "y_pred_prob = tree.predict_proba(x_train)\n",
    "y_pred_prob[0:5]"
   ]
  },
  {
   "cell_type": "markdown",
   "id": "9fd7f787",
   "metadata": {},
   "source": [
    "#### 3. Evaluate your in-sample results using the model score, confusion matrix, and classification report."
   ]
  },
  {
   "cell_type": "code",
   "execution_count": 11,
   "id": "4921819c",
   "metadata": {},
   "outputs": [
    {
     "data": {
      "text/plain": [
       "0.830238726790451"
      ]
     },
     "execution_count": 11,
     "metadata": {},
     "output_type": "execute_result"
    }
   ],
   "source": [
    "tree.score(x_train, y_train)"
   ]
  },
  {
   "cell_type": "code",
   "execution_count": 12,
   "id": "0d694520",
   "metadata": {},
   "outputs": [
    {
     "data": {
      "text/html": [
       "<div>\n",
       "<style scoped>\n",
       "    .dataframe tbody tr th:only-of-type {\n",
       "        vertical-align: middle;\n",
       "    }\n",
       "\n",
       "    .dataframe tbody tr th {\n",
       "        vertical-align: top;\n",
       "    }\n",
       "\n",
       "    .dataframe thead th {\n",
       "        text-align: right;\n",
       "    }\n",
       "</style>\n",
       "<table border=\"1\" class=\"dataframe\">\n",
       "  <thead>\n",
       "    <tr style=\"text-align: right;\">\n",
       "      <th></th>\n",
       "      <th>0</th>\n",
       "      <th>1</th>\n",
       "    </tr>\n",
       "  </thead>\n",
       "  <tbody>\n",
       "    <tr>\n",
       "      <th>0</th>\n",
       "      <td>193</td>\n",
       "      <td>27</td>\n",
       "    </tr>\n",
       "    <tr>\n",
       "      <th>1</th>\n",
       "      <td>37</td>\n",
       "      <td>120</td>\n",
       "    </tr>\n",
       "  </tbody>\n",
       "</table>\n",
       "</div>"
      ],
      "text/plain": [
       "     0    1\n",
       "0  193   27\n",
       "1   37  120"
      ]
     },
     "execution_count": 12,
     "metadata": {},
     "output_type": "execute_result"
    }
   ],
   "source": [
    "sklearn.metrics.confusion_matrix(y_train, y_pred)\n",
    "pd.DataFrame(sklearn.metrics.confusion_matrix(y_train, y_pred))"
   ]
  },
  {
   "cell_type": "code",
   "execution_count": 13,
   "id": "3aea39a2",
   "metadata": {},
   "outputs": [
    {
     "name": "stdout",
     "output_type": "stream",
     "text": [
      "              precision    recall  f1-score   support\n",
      "\n",
      "           0       0.84      0.88      0.86       220\n",
      "           1       0.82      0.76      0.79       157\n",
      "\n",
      "    accuracy                           0.83       377\n",
      "   macro avg       0.83      0.82      0.82       377\n",
      "weighted avg       0.83      0.83      0.83       377\n",
      "\n"
     ]
    }
   ],
   "source": [
    "print(sklearn.metrics.classification_report(y_train, y_pred))"
   ]
  },
  {
   "cell_type": "markdown",
   "id": "62aad388",
   "metadata": {},
   "source": [
    "#### 4. Compute: Accuracy, true positive rate, false positive rate, true negative rate, false negative rate, precision, recall, f1-score, and support."
   ]
  },
  {
   "cell_type": "code",
   "execution_count": 14,
   "id": "c219db1c",
   "metadata": {},
   "outputs": [
    {
     "name": "stdout",
     "output_type": "stream",
     "text": [
      "Accuracy: 83.02%\n",
      "True Positive Rate: 76.43%\n",
      "True Negative Rate: 87.73%\n",
      "False Positive Rate: 12.27%\n",
      "False Negative Rate: 23.57%\n",
      "Precision: 81.63%\n",
      "Recall: 76.43%\n",
      "F1 Score: 78.95%\n",
      "Support - 1: 157\n",
      "Support - 0: 220\n"
     ]
    }
   ],
   "source": [
    "# with 1 being positive and 0 being negative\n",
    "TP = 120\n",
    "TN = 193\n",
    "FP = 27\n",
    "FN = 37\n",
    "\n",
    "accuracy = (TP+TN)/(TP+TN+FP+FN)\n",
    "print(f'Accuracy: {accuracy:.2%}')\n",
    "true_pos_rate = TP/(TP+FN)\n",
    "print(f'True Positive Rate: {true_pos_rate:.2%}')\n",
    "true_neg_rate = TN/(TN+FP)\n",
    "print(f'True Negative Rate: {true_neg_rate:.2%}')\n",
    "false_pos_rate = FP/(FP+TN)\n",
    "print(f'False Positive Rate: {false_pos_rate:.2%}')\n",
    "false_neg_rate = FN/(FN+TP)\n",
    "print(f'False Negative Rate: {false_neg_rate:.2%}')\n",
    "precision = TP/(TP+FP)\n",
    "print(f'Precision: {precision:.2%}')\n",
    "recall = TP/(TP+FN)\n",
    "print(f'Recall: {recall:.2%}')\n",
    "f1_score = 2*(precision*recall)/(precision+recall)\n",
    "print(f'F1 Score: {f1_score:.2%}')\n",
    "support_1 = TP+FN\n",
    "print(f'Support - 1: {support_1}')\n",
    "support_0 = TN+FP\n",
    "print(f'Support - 0: {support_0}')"
   ]
  },
  {
   "cell_type": "markdown",
   "id": "071408a8",
   "metadata": {},
   "source": [
    "#### 5. Run through steps 2-4 using a different `max_depth` value."
   ]
  },
  {
   "cell_type": "code",
   "execution_count": 15,
   "id": "48e1ab77",
   "metadata": {},
   "outputs": [
    {
     "name": "stdout",
     "output_type": "stream",
     "text": [
      "              precision    recall  f1-score   support\n",
      "\n",
      "           0       0.84      0.90      0.87       220\n",
      "           1       0.84      0.76      0.80       157\n",
      "\n",
      "    accuracy                           0.84       377\n",
      "   macro avg       0.84      0.83      0.83       377\n",
      "weighted avg       0.84      0.84      0.84       377\n",
      "\n"
     ]
    }
   ],
   "source": [
    "tree2 = DecisionTreeClassifier(max_depth=4, random_state=123)\n",
    "tree2 = tree2.fit(x_train, y_train)\n",
    "dot_data = export_graphviz(tree2, feature_names=x_train.columns, class_names=['not survived', 'survived'], rounded=True, filled=True, out_file=None)\n",
    "graph = graphviz.Source(dot_data)\n",
    "graph.render('titanic_train_decision_tree2', view=True)\n",
    "y_pred = tree2.predict(x_train)\n",
    "print(sklearn.metrics.classification_report(y_train, y_pred))"
   ]
  },
  {
   "cell_type": "markdown",
   "id": "df4f5771",
   "metadata": {},
   "source": [
    "#### 6. Which model performs better on your in-sample data?"
   ]
  },
  {
   "cell_type": "code",
   "execution_count": 16,
   "id": "d308ee01",
   "metadata": {},
   "outputs": [
    {
     "name": "stdout",
     "output_type": "stream",
     "text": [
      "Max Depth: 3\n",
      "In-Sample Accuracy: 83.02%\n",
      "\n",
      "Max Depth: 4\n",
      "In-Sample Accuracy: 83.82%\n"
     ]
    }
   ],
   "source": [
    "print('Max Depth: 3')\n",
    "print(f'In-Sample Accuracy: {tree.score(x_train, y_train):.2%}')\n",
    "print()\n",
    "print('Max Depth: 4')\n",
    "print(f'In-Sample Accuracy: {tree2.score(x_train, y_train):.2%}')"
   ]
  },
  {
   "cell_type": "markdown",
   "id": "8dfe713e",
   "metadata": {},
   "source": [
    "The model with a max depth of 4 works better (more accurate by 0.8%) on the in-sample data than the model with a max depth of 3."
   ]
  },
  {
   "cell_type": "markdown",
   "id": "459669d6",
   "metadata": {},
   "source": [
    "#### 7. Which model performs best on your out-of-sample data, the `validate` set?"
   ]
  },
  {
   "cell_type": "code",
   "execution_count": 17,
   "id": "dbb4f79f",
   "metadata": {},
   "outputs": [
    {
     "name": "stdout",
     "output_type": "stream",
     "text": [
      "Max Depth: 3\n",
      "Out-of-Sample Accuracy: 77.16%\n",
      "\n",
      "Max Depth: 4\n",
      "Out-of-Sample Accuracy: 77.78%\n"
     ]
    }
   ],
   "source": [
    "print('Max Depth: 3')\n",
    "print(f'Out-of-Sample Accuracy: {tree.score(x_validate, y_validate):.2%}')\n",
    "print()\n",
    "print('Max Depth: 4')\n",
    "print(f'Out-of-Sample Accuracy: {tree2.score(x_validate, y_validate):.2%}')"
   ]
  },
  {
   "cell_type": "markdown",
   "id": "cbfff178",
   "metadata": {},
   "source": [
    "The model with a max depth of 4 performs better (more accurate by 0.62%) than the model with a max depth of 3."
   ]
  },
  {
   "cell_type": "markdown",
   "id": "2068f4c1",
   "metadata": {},
   "source": [
    "------------------------\n",
    "\n",
    "#### Bonus:\n",
    "\n",
    "#### 1. Work through these same exercises using the Telco dataset."
   ]
  },
  {
   "cell_type": "code",
   "execution_count": null,
   "id": "2862d580",
   "metadata": {},
   "outputs": [],
   "source": []
  },
  {
   "cell_type": "markdown",
   "id": "e0074ed4",
   "metadata": {},
   "source": [
    "#### 2. Experiment with this model on other datasets with a higher number of output classes."
   ]
  },
  {
   "cell_type": "code",
   "execution_count": null,
   "id": "eeec539d",
   "metadata": {},
   "outputs": [],
   "source": []
  },
  {
   "cell_type": "markdown",
   "id": "297e2c20",
   "metadata": {},
   "source": [
    "---\n",
    "\n",
    "# Random Forest Exercises\n",
    "\n",
    "#### Continue working in your model file with titanic data to do the following:\n",
    "\n",
    "#### 1. Fit the Random Forest classifier to your training sample and transform (i.e. make predictions on the training sample) setting the random_state accordingly and setting min_samples_leaf = 1 and max_depth = 10."
   ]
  },
  {
   "cell_type": "code",
   "execution_count": 18,
   "id": "da6c356f",
   "metadata": {},
   "outputs": [],
   "source": [
    "from sklearn.ensemble import RandomForestClassifier\n",
    "\n",
    "rf = RandomForestClassifier(min_samples_leaf=1, max_depth=10, random_state=123)\n",
    "rf.fit(x_train, y_train)\n",
    "y_pred = rf.predict(x_train)"
   ]
  },
  {
   "cell_type": "markdown",
   "id": "cc231678",
   "metadata": {},
   "source": [
    "#### 2. Evaluate your results using the model score, confusion matrix, and classification report."
   ]
  },
  {
   "cell_type": "code",
   "execution_count": 19,
   "id": "882e6d35",
   "metadata": {},
   "outputs": [
    {
     "data": {
      "text/plain": [
       "0.9814323607427056"
      ]
     },
     "execution_count": 19,
     "metadata": {},
     "output_type": "execute_result"
    }
   ],
   "source": [
    "rf.score(x_train, y_train)"
   ]
  },
  {
   "cell_type": "code",
   "execution_count": 20,
   "id": "58b7a206",
   "metadata": {},
   "outputs": [
    {
     "data": {
      "text/html": [
       "<div>\n",
       "<style scoped>\n",
       "    .dataframe tbody tr th:only-of-type {\n",
       "        vertical-align: middle;\n",
       "    }\n",
       "\n",
       "    .dataframe tbody tr th {\n",
       "        vertical-align: top;\n",
       "    }\n",
       "\n",
       "    .dataframe thead th {\n",
       "        text-align: right;\n",
       "    }\n",
       "</style>\n",
       "<table border=\"1\" class=\"dataframe\">\n",
       "  <thead>\n",
       "    <tr style=\"text-align: right;\">\n",
       "      <th></th>\n",
       "      <th>0</th>\n",
       "      <th>1</th>\n",
       "    </tr>\n",
       "  </thead>\n",
       "  <tbody>\n",
       "    <tr>\n",
       "      <th>0</th>\n",
       "      <td>218</td>\n",
       "      <td>2</td>\n",
       "    </tr>\n",
       "    <tr>\n",
       "      <th>1</th>\n",
       "      <td>5</td>\n",
       "      <td>152</td>\n",
       "    </tr>\n",
       "  </tbody>\n",
       "</table>\n",
       "</div>"
      ],
      "text/plain": [
       "     0    1\n",
       "0  218    2\n",
       "1    5  152"
      ]
     },
     "execution_count": 20,
     "metadata": {},
     "output_type": "execute_result"
    }
   ],
   "source": [
    "labels=sorted(y_train.unique())\n",
    "pd.DataFrame(sklearn.metrics.confusion_matrix(y_train, y_pred), index=labels, columns=labels)"
   ]
  },
  {
   "cell_type": "code",
   "execution_count": 26,
   "id": "22dc4d84",
   "metadata": {},
   "outputs": [
    {
     "name": "stdout",
     "output_type": "stream",
     "text": [
      "              precision    recall  f1-score   support\n",
      "\n",
      "           0       0.82      0.93      0.87       220\n",
      "           1       0.88      0.72      0.79       157\n",
      "\n",
      "    accuracy                           0.84       377\n",
      "   macro avg       0.85      0.82      0.83       377\n",
      "weighted avg       0.84      0.84      0.84       377\n",
      "\n"
     ]
    }
   ],
   "source": [
    "print(sklearn.metrics.classification_report(y_train, y_pred))"
   ]
  },
  {
   "cell_type": "markdown",
   "id": "570c5834",
   "metadata": {},
   "source": [
    "#### 3. Print and clearly label the following: Accuracy, true positive rate, false positive rate, true negative rate, false negative rate, precision, recall, f1-score, and support."
   ]
  },
  {
   "cell_type": "code",
   "execution_count": 22,
   "id": "c3e8bdce",
   "metadata": {},
   "outputs": [
    {
     "name": "stdout",
     "output_type": "stream",
     "text": [
      "Accuracy: 98.14%\n",
      "True Positive Rate: 96.82%\n",
      "False Positive Rate: 0.91%\n",
      "True Negative Rate: 99.09%\n",
      "False Negative Rate: 3.18%\n",
      "Precision: 98.70%\n",
      "Recall: 96.82%\n",
      "F1 Score: 97.75%\n",
      "Support - 1: 157\n",
      "Support - 0: 220\n"
     ]
    }
   ],
   "source": [
    "TP = 152\n",
    "TN = 218\n",
    "FP = 2\n",
    "FN = 5\n",
    "\n",
    "accuracy = (TP+TN)/(TP+TN+FP+FN)\n",
    "print(f'Accuracy: {accuracy:.2%}')\n",
    "true_pos_rate = TP/(TP+FN)\n",
    "print(f'True Positive Rate: {true_pos_rate:.2%}')\n",
    "false_pos_rate = FP/(FP+TN)\n",
    "print(f'False Positive Rate: {false_pos_rate:.2%}')\n",
    "true_neg_rate = TN/(TN+FP)\n",
    "print(f'True Negative Rate: {true_neg_rate:.2%}')\n",
    "false_neg_rate = FN/(FN+TP)\n",
    "print(f'False Negative Rate: {false_neg_rate:.2%}')\n",
    "precision = TP/(TP+FP)\n",
    "print(f'Precision: {precision:.2%}')\n",
    "recall = TP/(TP+FN)\n",
    "print(f'Recall: {recall:.2%}')\n",
    "f1_score = 2*(precision*recall)/(precision+recall)\n",
    "print(f'F1 Score: {f1_score:.2%}')\n",
    "support_1 = TP+FN\n",
    "print(f'Support - 1: {support_1}')\n",
    "support_0 = TN+FP\n",
    "print(f'Support - 0: {support_0}')"
   ]
  },
  {
   "cell_type": "markdown",
   "id": "4785d780",
   "metadata": {},
   "source": [
    "#### 4. Run through steps increasing your min_samples_leaf and decreasing your max_depth."
   ]
  },
  {
   "cell_type": "code",
   "execution_count": 23,
   "id": "8e5ffc55",
   "metadata": {},
   "outputs": [
    {
     "name": "stdout",
     "output_type": "stream",
     "text": [
      "Random Forest with min of 2 samples per leaf and max depth of 1:\n",
      "                    0           1  accuracy   macro avg  weighted avg\n",
      "precision    0.740876    0.834951  0.766578    0.787914      0.780053\n",
      "recall       0.922727    0.547771  0.766578    0.735249      0.766578\n",
      "f1-score     0.821862    0.661538  0.766578    0.741700      0.755096\n",
      "support    220.000000  157.000000  0.766578  377.000000    377.000000\n",
      "\n",
      "Random Forest with min of 2 samples per leaf and max depth of 2:\n",
      "                    0           1  accuracy   macro avg  weighted avg\n",
      "precision    0.779528    0.821138  0.793103    0.800333      0.796856\n",
      "recall       0.900000    0.643312  0.793103    0.771656      0.793103\n",
      "f1-score     0.835443    0.721429  0.793103    0.778436      0.787962\n",
      "support    220.000000  157.000000  0.793103  377.000000    377.000000\n",
      "\n",
      "Random Forest with min of 2 samples per leaf and max depth of 3:\n",
      "                    0           1  accuracy   macro avg  weighted avg\n",
      "precision    0.814516    0.860465  0.830239    0.837491      0.833651\n",
      "recall       0.918182    0.707006  0.830239    0.812594      0.830239\n",
      "f1-score     0.863248    0.776224  0.830239    0.819736      0.827007\n",
      "support    220.000000  157.000000  0.830239  377.000000    377.000000\n",
      "\n",
      "Random Forest with min of 2 samples per leaf and max depth of 4:\n",
      "                    0           1  accuracy   macro avg  weighted avg\n",
      "precision    0.834008    0.892308  0.854111    0.863158      0.858287\n",
      "recall       0.936364    0.738854  0.854111    0.837609      0.854111\n",
      "f1-score     0.882227    0.808362  0.854111    0.845295      0.851466\n",
      "support    220.000000  157.000000  0.854111  377.000000    377.000000\n",
      "\n",
      "Random Forest with min of 2 samples per leaf and max depth of 5:\n",
      "                    0           1  accuracy   macro avg  weighted avg\n",
      "precision    0.850202    0.923077  0.875332    0.886640      0.880551\n",
      "recall       0.954545    0.764331  0.875332    0.859438      0.875332\n",
      "f1-score     0.899358    0.836237  0.875332    0.867797      0.873071\n",
      "support    220.000000  157.000000  0.875332  377.000000    377.000000\n",
      "\n",
      "Random Forest with min of 2 samples per leaf and max depth of 6:\n",
      "                    0           1  accuracy   macro avg  weighted avg\n",
      "precision    0.868852    0.939850  0.893899    0.904351      0.898419\n",
      "recall       0.963636    0.796178  0.893899    0.879907      0.893899\n",
      "f1-score     0.913793    0.862069  0.893899    0.887931      0.892253\n",
      "support    220.000000  157.000000  0.893899  377.000000    377.000000\n",
      "\n",
      "Random Forest with min of 2 samples per leaf and max depth of 7:\n",
      "                    0           1  accuracy   macro avg  weighted avg\n",
      "precision    0.886555    0.935252  0.904509    0.910903      0.906834\n",
      "recall       0.959091    0.828025  0.904509    0.893558      0.904509\n",
      "f1-score     0.921397    0.878378  0.904509    0.899888      0.903482\n",
      "support    220.000000  157.000000  0.904509  377.000000    377.000000\n",
      "\n",
      "Random Forest with min of 2 samples per leaf and max depth of 8:\n",
      "                    0           1  accuracy   macro avg  weighted avg\n",
      "precision    0.886555    0.935252  0.904509    0.910903      0.906834\n",
      "recall       0.959091    0.828025  0.904509    0.893558      0.904509\n",
      "f1-score     0.921397    0.878378  0.904509    0.899888      0.903482\n",
      "support    220.000000  157.000000  0.904509  377.000000    377.000000\n",
      "\n",
      "Random Forest with min of 2 samples per leaf and max depth of 9:\n",
      "                    0           1  accuracy   macro avg  weighted avg\n",
      "precision    0.889831    0.929078  0.904509    0.909454      0.906175\n",
      "recall       0.954545    0.834395  0.904509    0.894470      0.904509\n",
      "f1-score     0.921053    0.879195  0.904509    0.900124      0.903621\n",
      "support    220.000000  157.000000  0.904509  377.000000    377.000000\n",
      "\n",
      "Random Forest with min of 3 samples per leaf and max depth of 1:\n",
      "                    0           1  accuracy   macro avg  weighted avg\n",
      "precision    0.740876    0.834951  0.766578    0.787914      0.780053\n",
      "recall       0.922727    0.547771  0.766578    0.735249      0.766578\n",
      "f1-score     0.821862    0.661538  0.766578    0.741700      0.755096\n",
      "support    220.000000  157.000000  0.766578  377.000000    377.000000\n",
      "\n",
      "Random Forest with min of 3 samples per leaf and max depth of 2:\n",
      "                    0           1  accuracy   macro avg  weighted avg\n",
      "precision    0.779528    0.821138  0.793103    0.800333      0.796856\n",
      "recall       0.900000    0.643312  0.793103    0.771656      0.793103\n",
      "f1-score     0.835443    0.721429  0.793103    0.778436      0.787962\n",
      "support    220.000000  157.000000  0.793103  377.000000    377.000000\n",
      "\n",
      "Random Forest with min of 3 samples per leaf and max depth of 3:\n",
      "                    0           1  accuracy   macro avg  weighted avg\n",
      "precision    0.817073    0.854962  0.830239    0.836018      0.832852\n",
      "recall       0.913636    0.713376  0.830239    0.813506      0.830239\n",
      "f1-score     0.862661    0.777778  0.830239    0.820219      0.827312\n",
      "support    220.000000  157.000000  0.830239  377.000000    377.000000\n",
      "\n",
      "Random Forest with min of 3 samples per leaf and max depth of 4:\n",
      "                    0           1  accuracy   macro avg  weighted avg\n",
      "precision    0.830645    0.891473  0.851459    0.861059      0.855977\n",
      "recall       0.936364    0.732484  0.851459    0.834424      0.851459\n",
      "f1-score     0.880342    0.804196  0.851459    0.842269      0.848631\n",
      "support    220.000000  157.000000  0.851459  377.000000    377.000000\n",
      "\n",
      "Random Forest with min of 3 samples per leaf and max depth of 5:\n",
      "                    0           1  accuracy   macro avg  weighted avg\n",
      "precision    0.832669    0.912698  0.859416    0.872684      0.865997\n",
      "recall       0.950000    0.732484  0.859416    0.841242      0.859416\n",
      "f1-score     0.887473    0.812721  0.859416    0.850097      0.856343\n",
      "support    220.000000  157.000000  0.859416  377.000000    377.000000\n",
      "\n",
      "Random Forest with min of 3 samples per leaf and max depth of 6:\n",
      "                    0           1  accuracy   macro avg  weighted avg\n",
      "precision    0.875519    0.933824  0.896552    0.904671      0.899799\n",
      "recall       0.959091    0.808917  0.896552    0.884004      0.896552\n",
      "f1-score     0.915401    0.866894  0.896552    0.891148      0.895201\n",
      "support    220.000000  157.000000  0.896552  377.000000    377.000000\n",
      "\n",
      "Random Forest with min of 3 samples per leaf and max depth of 7:\n",
      "                    0           1  accuracy   macro avg  weighted avg\n",
      "precision    0.867769    0.925926  0.888594    0.896847      0.891988\n",
      "recall       0.954545    0.796178  0.888594    0.875362      0.888594\n",
      "f1-score     0.909091    0.856164  0.888594    0.882628      0.887050\n",
      "support    220.000000  157.000000  0.888594  377.000000    377.000000\n",
      "\n",
      "Random Forest with min of 3 samples per leaf and max depth of 8:\n",
      "                    0           1  accuracy   macro avg  weighted avg\n",
      "precision    0.878151    0.920863  0.893899    0.899507      0.895939\n",
      "recall       0.950000    0.815287  0.893899    0.882643      0.893899\n",
      "f1-score     0.912664    0.864865  0.893899    0.888764      0.892758\n",
      "support    220.000000  157.000000  0.893899  377.000000    377.000000\n",
      "\n",
      "Random Forest with min of 3 samples per leaf and max depth of 9:\n",
      "                    0           1  accuracy   macro avg  weighted avg\n",
      "precision    0.874477    0.920290  0.891247    0.897383      0.893556\n",
      "recall       0.950000    0.808917  0.891247    0.879459      0.891247\n",
      "f1-score     0.910675    0.861017  0.891247    0.885846      0.889995\n",
      "support    220.000000  157.000000  0.891247  377.000000    377.000000\n",
      "\n",
      "Random Forest with min of 4 samples per leaf and max depth of 1:\n",
      "                    0           1  accuracy   macro avg  weighted avg\n",
      "precision    0.740876    0.834951  0.766578    0.787914      0.780053\n",
      "recall       0.922727    0.547771  0.766578    0.735249      0.766578\n",
      "f1-score     0.821862    0.661538  0.766578    0.741700      0.755096\n",
      "support    220.000000  157.000000  0.766578  377.000000    377.000000\n",
      "\n",
      "Random Forest with min of 4 samples per leaf and max depth of 2:\n",
      "                    0           1  accuracy   macro avg  weighted avg\n",
      "precision    0.779528    0.821138  0.793103    0.800333      0.796856\n",
      "recall       0.900000    0.643312  0.793103    0.771656      0.793103\n",
      "f1-score     0.835443    0.721429  0.793103    0.778436      0.787962\n",
      "support    220.000000  157.000000  0.793103  377.000000    377.000000\n",
      "\n",
      "Random Forest with min of 4 samples per leaf and max depth of 3:\n",
      "                    0           1  accuracy   macro avg  weighted avg\n",
      "precision    0.813765    0.853846  0.827586    0.833806      0.830457\n",
      "recall       0.913636    0.707006  0.827586    0.810321      0.827586\n",
      "f1-score     0.860814    0.773519  0.827586    0.817166      0.824460\n",
      "support    220.000000  157.000000  0.827586  377.000000    377.000000\n",
      "\n"
     ]
    },
    {
     "name": "stdout",
     "output_type": "stream",
     "text": [
      "Random Forest with min of 4 samples per leaf and max depth of 4:\n",
      "                    0           1  accuracy   macro avg  weighted avg\n",
      "precision    0.837398    0.893130  0.856764    0.865264      0.860607\n",
      "recall       0.936364    0.745223  0.856764    0.840793      0.856764\n",
      "f1-score     0.884120    0.812500  0.856764    0.848310      0.854294\n",
      "support    220.000000  157.000000  0.856764  377.000000    377.000000\n",
      "\n",
      "Random Forest with min of 4 samples per leaf and max depth of 5:\n",
      "                    0           1  accuracy   macro avg  weighted avg\n",
      "precision    0.826772    0.918699  0.856764    0.872735      0.865054\n",
      "recall       0.954545    0.719745  0.856764    0.837145      0.856764\n",
      "f1-score     0.886076    0.807143  0.856764    0.846609      0.853205\n",
      "support    220.000000  157.000000  0.856764  377.000000    377.000000\n",
      "\n",
      "Random Forest with min of 4 samples per leaf and max depth of 6:\n",
      "                    0           1  accuracy   macro avg  weighted avg\n",
      "precision    0.856557    0.917293  0.877984    0.886925      0.881851\n",
      "recall       0.950000    0.777070  0.877984    0.863535      0.877984\n",
      "f1-score     0.900862    0.841379  0.877984    0.871121      0.876091\n",
      "support    220.000000  157.000000  0.877984  377.000000    377.000000\n",
      "\n",
      "Random Forest with min of 4 samples per leaf and max depth of 7:\n",
      "                    0           1  accuracy   macro avg  weighted avg\n",
      "precision    0.864198    0.925373  0.885942    0.894785      0.889674\n",
      "recall       0.954545    0.789809  0.885942    0.872177      0.885942\n",
      "f1-score     0.907127    0.852234  0.885942    0.879681      0.884267\n",
      "support    220.000000  157.000000  0.885942  377.000000    377.000000\n",
      "\n",
      "Random Forest with min of 4 samples per leaf and max depth of 8:\n",
      "                    0           1  accuracy   macro avg  weighted avg\n",
      "precision    0.867220    0.919118  0.885942    0.893169      0.888832\n",
      "recall       0.950000    0.796178  0.885942    0.873089      0.885942\n",
      "f1-score     0.906725    0.853242  0.885942    0.879983      0.884452\n",
      "support    220.000000  157.000000  0.885942  377.000000    377.000000\n",
      "\n",
      "Random Forest with min of 4 samples per leaf and max depth of 9:\n",
      "                    0           1  accuracy   macro avg  weighted avg\n",
      "precision    0.867220    0.919118  0.885942    0.893169      0.888832\n",
      "recall       0.950000    0.796178  0.885942    0.873089      0.885942\n",
      "f1-score     0.906725    0.853242  0.885942    0.879983      0.884452\n",
      "support    220.000000  157.000000  0.885942  377.000000    377.000000\n",
      "\n",
      "Random Forest with min of 5 samples per leaf and max depth of 1:\n",
      "                    0           1  accuracy   macro avg  weighted avg\n",
      "precision    0.740876    0.834951  0.766578    0.787914      0.780053\n",
      "recall       0.922727    0.547771  0.766578    0.735249      0.766578\n",
      "f1-score     0.821862    0.661538  0.766578    0.741700      0.755096\n",
      "support    220.000000  157.000000  0.766578  377.000000    377.000000\n",
      "\n",
      "Random Forest with min of 5 samples per leaf and max depth of 2:\n",
      "                    0           1  accuracy   macro avg  weighted avg\n",
      "precision    0.779528    0.821138  0.793103    0.800333      0.796856\n",
      "recall       0.900000    0.643312  0.793103    0.771656      0.793103\n",
      "f1-score     0.835443    0.721429  0.793103    0.778436      0.787962\n",
      "support    220.000000  157.000000  0.793103  377.000000    377.000000\n",
      "\n",
      "Random Forest with min of 5 samples per leaf and max depth of 3:\n",
      "                    0           1  accuracy   macro avg  weighted avg\n",
      "precision    0.813008    0.847328  0.824934    0.830168      0.827301\n",
      "recall       0.909091    0.707006  0.824934    0.808049      0.824934\n",
      "f1-score     0.858369    0.770833  0.824934    0.814601      0.821915\n",
      "support    220.000000  157.000000  0.824934  377.000000    377.000000\n",
      "\n",
      "Random Forest with min of 5 samples per leaf and max depth of 4:\n",
      "                    0           1  accuracy   macro avg  weighted avg\n",
      "precision    0.837398    0.893130  0.856764    0.865264      0.860607\n",
      "recall       0.936364    0.745223  0.856764    0.840793      0.856764\n",
      "f1-score     0.884120    0.812500  0.856764    0.848310      0.854294\n",
      "support    220.000000  157.000000  0.856764  377.000000    377.000000\n",
      "\n",
      "Random Forest with min of 5 samples per leaf and max depth of 5:\n",
      "                    0           1  accuracy   macro avg  weighted avg\n",
      "precision    0.829365    0.912000  0.856764    0.870683      0.863778\n",
      "recall       0.950000    0.726115  0.856764    0.838057      0.856764\n",
      "f1-score     0.885593    0.808511  0.856764    0.847052      0.853493\n",
      "support    220.000000  157.000000  0.856764  377.000000    377.000000\n",
      "\n",
      "Random Forest with min of 5 samples per leaf and max depth of 6:\n",
      "                    0           1  accuracy   macro avg  weighted avg\n",
      "precision    0.846774    0.922481  0.872679    0.884627      0.878302\n",
      "recall       0.954545    0.757962  0.872679    0.856254      0.872679\n",
      "f1-score     0.897436    0.832168  0.872679    0.864802      0.870255\n",
      "support    220.000000  157.000000  0.872679  377.000000    377.000000\n",
      "\n",
      "Random Forest with min of 5 samples per leaf and max depth of 7:\n",
      "                    0           1  accuracy   macro avg  weighted avg\n",
      "precision    0.856557    0.917293  0.877984    0.886925      0.881851\n",
      "recall       0.950000    0.777070  0.877984    0.863535      0.877984\n",
      "f1-score     0.900862    0.841379  0.877984    0.871121      0.876091\n",
      "support    220.000000  157.000000  0.877984  377.000000    377.000000\n",
      "\n",
      "Random Forest with min of 5 samples per leaf and max depth of 8:\n",
      "                    0           1  accuracy   macro avg  weighted avg\n",
      "precision    0.853659    0.923664  0.877984    0.888661      0.882812\n",
      "recall       0.954545    0.770701  0.877984    0.862623      0.877984\n",
      "f1-score     0.901288    0.840278  0.877984    0.870783      0.875880\n",
      "support    220.000000  157.000000  0.877984  377.000000    377.000000\n",
      "\n",
      "Random Forest with min of 5 samples per leaf and max depth of 9:\n",
      "                    0           1  accuracy   macro avg  weighted avg\n",
      "precision    0.860656    0.924812  0.883289    0.892734      0.887373\n",
      "recall       0.954545    0.783439  0.883289    0.868992      0.883289\n",
      "f1-score     0.905172    0.848276  0.883289    0.876724      0.881478\n",
      "support    220.000000  157.000000  0.883289  377.000000    377.000000\n",
      "\n",
      "Random Forest with min of 6 samples per leaf and max depth of 1:\n",
      "                    0           1  accuracy   macro avg  weighted avg\n",
      "precision    0.740876    0.834951  0.766578    0.787914      0.780053\n",
      "recall       0.922727    0.547771  0.766578    0.735249      0.766578\n",
      "f1-score     0.821862    0.661538  0.766578    0.741700      0.755096\n",
      "support    220.000000  157.000000  0.766578  377.000000    377.000000\n",
      "\n",
      "Random Forest with min of 6 samples per leaf and max depth of 2:\n",
      "                    0           1  accuracy   macro avg  weighted avg\n",
      "precision    0.785714    0.824000  0.798408    0.804857      0.801658\n",
      "recall       0.900000    0.656051  0.798408    0.778025      0.798408\n",
      "f1-score     0.838983    0.730496  0.798408    0.784740      0.793804\n",
      "support    220.000000  157.000000  0.798408  377.000000    377.000000\n",
      "\n",
      "Random Forest with min of 6 samples per leaf and max depth of 3:\n",
      "                    0           1  accuracy   macro avg  weighted avg\n",
      "precision    0.809717    0.846154  0.822281    0.827935      0.824891\n",
      "recall       0.909091    0.700637  0.822281    0.804864      0.822281\n",
      "f1-score     0.856531    0.766551  0.822281    0.811541      0.819059\n",
      "support    220.000000  157.000000  0.822281  377.000000    377.000000\n",
      "\n",
      "Random Forest with min of 6 samples per leaf and max depth of 4:\n",
      "                    0           1  accuracy   macro avg  weighted avg\n",
      "precision    0.817460    0.888000  0.840849    0.852730      0.846836\n",
      "recall       0.936364    0.707006  0.840849    0.821685      0.840849\n",
      "f1-score     0.872881    0.787234  0.840849    0.830058      0.837214\n",
      "support    220.000000  157.000000  0.840849  377.000000    377.000000\n",
      "\n",
      "Random Forest with min of 6 samples per leaf and max depth of 5:\n",
      "                    0           1  accuracy   macro avg  weighted avg\n",
      "precision    0.822134    0.903226  0.848806    0.862680      0.855905\n",
      "recall       0.945455    0.713376  0.848806    0.829415      0.848806\n",
      "f1-score     0.879493    0.797153  0.848806    0.838323      0.845203\n",
      "support    220.000000  157.000000  0.848806  377.000000    377.000000\n",
      "\n",
      "Random Forest with min of 6 samples per leaf and max depth of 6:\n",
      "                    0           1  accuracy   macro avg  weighted avg\n",
      "precision    0.841463    0.900763  0.862069    0.871113      0.866159\n",
      "recall       0.940909    0.751592  0.862069    0.846251      0.862069\n",
      "f1-score     0.888412    0.819444  0.862069    0.853928      0.859691\n",
      "support    220.000000  157.000000  0.862069  377.000000    377.000000\n",
      "\n"
     ]
    },
    {
     "name": "stdout",
     "output_type": "stream",
     "text": [
      "Random Forest with min of 6 samples per leaf and max depth of 7:\n",
      "                    0           1  accuracy   macro avg  weighted avg\n",
      "precision    0.852459    0.909774  0.872679    0.881117      0.876328\n",
      "recall       0.945455    0.770701  0.872679    0.858078      0.872679\n",
      "f1-score     0.896552    0.834483  0.872679    0.865517      0.870703\n",
      "support    220.000000  157.000000  0.872679  377.000000    377.000000\n",
      "\n",
      "Random Forest with min of 6 samples per leaf and max depth of 8:\n",
      "                    0           1  accuracy   macro avg  weighted avg\n",
      "precision    0.854772    0.897059  0.870027    0.875915      0.872382\n",
      "recall       0.936364    0.777070  0.870027    0.856717      0.870027\n",
      "f1-score     0.893709    0.832765  0.870027    0.863237      0.868329\n",
      "support    220.000000  157.000000  0.870027  377.000000    377.000000\n",
      "\n",
      "Random Forest with min of 6 samples per leaf and max depth of 9:\n",
      "                    0           1  accuracy   macro avg  weighted avg\n",
      "precision    0.861345    0.892086  0.872679    0.876715      0.874147\n",
      "recall       0.931818    0.789809  0.872679    0.860814      0.872679\n",
      "f1-score     0.895197    0.837838  0.872679    0.866517      0.871310\n",
      "support    220.000000  157.000000  0.872679  377.000000    377.000000\n",
      "\n",
      "Random Forest with min of 7 samples per leaf and max depth of 1:\n",
      "                    0           1  accuracy   macro avg  weighted avg\n",
      "precision    0.740876    0.834951  0.766578    0.787914      0.780053\n",
      "recall       0.922727    0.547771  0.766578    0.735249      0.766578\n",
      "f1-score     0.821862    0.661538  0.766578    0.741700      0.755096\n",
      "support    220.000000  157.000000  0.766578  377.000000    377.000000\n",
      "\n",
      "Random Forest with min of 7 samples per leaf and max depth of 2:\n",
      "                    0           1  accuracy   macro avg  weighted avg\n",
      "precision    0.780392    0.827869  0.795756    0.804131      0.800164\n",
      "recall       0.904545    0.643312  0.795756    0.773929      0.795756\n",
      "f1-score     0.837895    0.724014  0.795756    0.780955      0.790470\n",
      "support    220.000000  157.000000  0.795756  377.000000    377.000000\n",
      "\n",
      "Random Forest with min of 7 samples per leaf and max depth of 3:\n",
      "                    0           1  accuracy   macro avg  weighted avg\n",
      "precision    0.808943    0.839695  0.819629    0.824319      0.821749\n",
      "recall       0.904545    0.700637  0.819629    0.802591      0.819629\n",
      "f1-score     0.854077    0.763889  0.819629    0.808983      0.816519\n",
      "support    220.000000  157.000000  0.819629  377.000000    377.000000\n",
      "\n",
      "Random Forest with min of 7 samples per leaf and max depth of 4:\n",
      "                    0           1  accuracy   macro avg  weighted avg\n",
      "precision    0.809524    0.872000  0.830239    0.840762      0.835542\n",
      "recall       0.927273    0.694268  0.830239    0.810770      0.830239\n",
      "f1-score     0.864407    0.773050  0.830239    0.818728      0.826362\n",
      "support    220.000000  157.000000  0.830239  377.000000    377.000000\n",
      "\n",
      "Random Forest with min of 7 samples per leaf and max depth of 5:\n",
      "                    0           1  accuracy   macro avg  weighted avg\n",
      "precision    0.814961    0.894309  0.840849    0.854635      0.848005\n",
      "recall       0.940909    0.700637  0.840849    0.820773      0.840849\n",
      "f1-score     0.873418    0.785714  0.840849    0.829566      0.836894\n",
      "support    220.000000  157.000000  0.840849  377.000000    377.000000\n",
      "\n",
      "Random Forest with min of 7 samples per leaf and max depth of 6:\n",
      "                    0           1  accuracy   macro avg  weighted avg\n",
      "precision    0.835341    0.906250  0.859416    0.870796      0.864871\n",
      "recall       0.945455    0.738854  0.859416    0.842154      0.859416\n",
      "f1-score     0.886994    0.814035  0.859416    0.850514      0.856610\n",
      "support    220.000000  157.000000  0.859416  377.000000    377.000000\n",
      "\n",
      "Random Forest with min of 7 samples per leaf and max depth of 7:\n",
      "                    0           1  accuracy   macro avg  weighted avg\n",
      "precision    0.834008    0.892308  0.854111    0.863158      0.858287\n",
      "recall       0.936364    0.738854  0.854111    0.837609      0.854111\n",
      "f1-score     0.882227    0.808362  0.854111    0.845295      0.851466\n",
      "support    220.000000  157.000000  0.854111  377.000000    377.000000\n",
      "\n",
      "Random Forest with min of 7 samples per leaf and max depth of 8:\n",
      "                    0           1  accuracy   macro avg  weighted avg\n",
      "precision    0.839357    0.914062  0.864721    0.876710      0.870468\n",
      "recall       0.950000    0.745223  0.864721    0.847611      0.864721\n",
      "f1-score     0.891258    0.821053  0.864721    0.856155      0.862021\n",
      "support    220.000000  157.000000  0.864721  377.000000    377.000000\n",
      "\n",
      "Random Forest with min of 7 samples per leaf and max depth of 9:\n",
      "                    0           1  accuracy   macro avg  weighted avg\n",
      "precision    0.834677    0.899225  0.856764    0.866951      0.861558\n",
      "recall       0.940909    0.738854  0.856764    0.839881      0.856764\n",
      "f1-score     0.884615    0.811189  0.856764    0.847902      0.854037\n",
      "support    220.000000  157.000000  0.856764  377.000000    377.000000\n",
      "\n",
      "Random Forest with min of 8 samples per leaf and max depth of 1:\n",
      "                    0           1  accuracy   macro avg  weighted avg\n",
      "precision    0.740876    0.834951  0.766578    0.787914      0.780053\n",
      "recall       0.922727    0.547771  0.766578    0.735249      0.766578\n",
      "f1-score     0.821862    0.661538  0.766578    0.741700      0.755096\n",
      "support    220.000000  157.000000  0.766578  377.000000    377.000000\n",
      "\n",
      "Random Forest with min of 8 samples per leaf and max depth of 2:\n",
      "                    0           1  accuracy   macro avg  weighted avg\n",
      "precision    0.780392    0.827869  0.795756    0.804131      0.800164\n",
      "recall       0.904545    0.643312  0.795756    0.773929      0.795756\n",
      "f1-score     0.837895    0.724014  0.795756    0.780955      0.790470\n",
      "support    220.000000  157.000000  0.795756  377.000000    377.000000\n",
      "\n",
      "Random Forest with min of 8 samples per leaf and max depth of 3:\n",
      "                    0           1  accuracy   macro avg  weighted avg\n",
      "precision    0.792000    0.826772  0.803714    0.809386      0.806481\n",
      "recall       0.900000    0.668790  0.803714    0.784395      0.803714\n",
      "f1-score     0.842553    0.739437  0.803714    0.790995      0.799611\n",
      "support    220.000000  157.000000  0.803714  377.000000    377.000000\n",
      "\n",
      "Random Forest with min of 8 samples per leaf and max depth of 4:\n",
      "                    0           1  accuracy   macro avg  weighted avg\n",
      "precision    0.809524    0.872000  0.830239    0.840762      0.835542\n",
      "recall       0.927273    0.694268  0.830239    0.810770      0.830239\n",
      "f1-score     0.864407    0.773050  0.830239    0.818728      0.826362\n",
      "support    220.000000  157.000000  0.830239  377.000000    377.000000\n",
      "\n",
      "Random Forest with min of 8 samples per leaf and max depth of 5:\n",
      "                    0           1  accuracy   macro avg  weighted avg\n",
      "precision    0.813492    0.880000  0.835544    0.846746      0.841189\n",
      "recall       0.931818    0.700637  0.835544    0.816228      0.835544\n",
      "f1-score     0.868644    0.780142  0.835544    0.824393      0.831788\n",
      "support    220.000000  157.000000  0.835544  377.000000    377.000000\n",
      "\n",
      "Random Forest with min of 8 samples per leaf and max depth of 6:\n",
      "                    0           1  accuracy   macro avg  weighted avg\n",
      "precision    0.822581    0.875969  0.840849    0.849275      0.844814\n",
      "recall       0.927273    0.719745  0.840849    0.823509      0.840849\n",
      "f1-score     0.871795    0.790210  0.840849    0.831002      0.837819\n",
      "support    220.000000  157.000000  0.840849  377.000000    377.000000\n",
      "\n",
      "Random Forest with min of 8 samples per leaf and max depth of 7:\n",
      "                    0           1  accuracy   macro avg  weighted avg\n",
      "precision    0.825911    0.876923  0.843501    0.851417      0.847155\n",
      "recall       0.927273    0.726115  0.843501    0.826694      0.843501\n",
      "f1-score     0.873662    0.794425  0.843501    0.834043      0.840664\n",
      "support    220.000000  157.000000  0.843501  377.000000    377.000000\n",
      "\n",
      "Random Forest with min of 8 samples per leaf and max depth of 8:\n",
      "                    0           1  accuracy   macro avg  weighted avg\n",
      "precision    0.825203    0.870229  0.840849    0.847716      0.843954\n",
      "recall       0.922727    0.726115  0.840849    0.824421      0.840849\n",
      "f1-score     0.871245    0.791667  0.840849    0.831456      0.838105\n",
      "support    220.000000  157.000000  0.840849  377.000000    377.000000\n",
      "\n",
      "Random Forest with min of 8 samples per leaf and max depth of 9:\n",
      "                    0           1  accuracy   macro avg  weighted avg\n",
      "precision    0.822581    0.875969  0.840849    0.849275      0.844814\n",
      "recall       0.927273    0.719745  0.840849    0.823509      0.840849\n",
      "f1-score     0.871795    0.790210  0.840849    0.831002      0.837819\n",
      "support    220.000000  157.000000  0.840849  377.000000    377.000000\n",
      "\n"
     ]
    },
    {
     "name": "stdout",
     "output_type": "stream",
     "text": [
      "Random Forest with min of 9 samples per leaf and max depth of 1:\n",
      "                    0           1  accuracy   macro avg  weighted avg\n",
      "precision    0.740876    0.834951  0.766578    0.787914      0.780053\n",
      "recall       0.922727    0.547771  0.766578    0.735249      0.766578\n",
      "f1-score     0.821862    0.661538  0.766578    0.741700      0.755096\n",
      "support    220.000000  157.000000  0.766578  377.000000    377.000000\n",
      "\n",
      "Random Forest with min of 9 samples per leaf and max depth of 2:\n",
      "                    0           1  accuracy   macro avg  weighted avg\n",
      "precision    0.780392    0.827869  0.795756    0.804131      0.800164\n",
      "recall       0.904545    0.643312  0.795756    0.773929      0.795756\n",
      "f1-score     0.837895    0.724014  0.795756    0.780955      0.790470\n",
      "support    220.000000  157.000000  0.795756  377.000000    377.000000\n",
      "\n",
      "Random Forest with min of 9 samples per leaf and max depth of 3:\n",
      "                    0           1  accuracy   macro avg  weighted avg\n",
      "precision    0.792000    0.826772  0.803714    0.809386      0.806481\n",
      "recall       0.900000    0.668790  0.803714    0.784395      0.803714\n",
      "f1-score     0.842553    0.739437  0.803714    0.790995      0.799611\n",
      "support    220.000000  157.000000  0.803714  377.000000    377.000000\n",
      "\n",
      "Random Forest with min of 9 samples per leaf and max depth of 4:\n",
      "                    0           1  accuracy   macro avg  weighted avg\n",
      "precision    0.808000    0.858268  0.824934    0.833134      0.828934\n",
      "recall       0.918182    0.694268  0.824934    0.806225      0.824934\n",
      "f1-score     0.859574    0.767606  0.824934    0.813590      0.821274\n",
      "support    220.000000  157.000000  0.824934  377.000000    377.000000\n",
      "\n",
      "Random Forest with min of 9 samples per leaf and max depth of 5:\n",
      "                    0           1  accuracy   macro avg  weighted avg\n",
      "precision    0.809524    0.872000  0.830239    0.840762      0.835542\n",
      "recall       0.927273    0.694268  0.830239    0.810770      0.830239\n",
      "f1-score     0.864407    0.773050  0.830239    0.818728      0.826362\n",
      "support    220.000000  157.000000  0.830239  377.000000    377.000000\n",
      "\n",
      "Random Forest with min of 9 samples per leaf and max depth of 6:\n",
      "                    0           1  accuracy   macro avg  weighted avg\n",
      "precision    0.806324    0.870968  0.827586    0.838646      0.833245\n",
      "recall       0.927273    0.687898  0.827586    0.807585      0.827586\n",
      "f1-score     0.862579    0.768683  0.827586    0.815631      0.823477\n",
      "support    220.000000  157.000000  0.827586  377.000000    377.000000\n",
      "\n",
      "Random Forest with min of 9 samples per leaf and max depth of 7:\n",
      "                    0           1  accuracy   macro avg  weighted avg\n",
      "precision    0.818182    0.895161  0.843501    0.856672      0.850240\n",
      "recall       0.940909    0.707006  0.843501    0.823958      0.843501\n",
      "f1-score     0.875264    0.790036  0.843501    0.832650      0.839771\n",
      "support    220.000000  157.000000  0.843501  377.000000    377.000000\n",
      "\n",
      "Random Forest with min of 9 samples per leaf and max depth of 8:\n",
      "                    0           1  accuracy   macro avg  weighted avg\n",
      "precision    0.811765    0.893443  0.838196    0.852604      0.845779\n",
      "recall       0.940909    0.694268  0.838196    0.817588      0.838196\n",
      "f1-score     0.871579    0.781362  0.838196    0.826470      0.834008\n",
      "support    220.000000  157.000000  0.838196  377.000000    377.000000\n",
      "\n",
      "Random Forest with min of 9 samples per leaf and max depth of 9:\n",
      "                    0           1  accuracy   macro avg  weighted avg\n",
      "precision    0.811765    0.893443  0.838196    0.852604      0.845779\n",
      "recall       0.940909    0.694268  0.838196    0.817588      0.838196\n",
      "f1-score     0.871579    0.781362  0.838196    0.826470      0.834008\n",
      "support    220.000000  157.000000  0.838196  377.000000    377.000000\n",
      "\n",
      "Random Forest with min of 10 samples per leaf and max depth of 1:\n",
      "                    0           1  accuracy   macro avg  weighted avg\n",
      "precision    0.740876    0.834951  0.766578    0.787914      0.780053\n",
      "recall       0.922727    0.547771  0.766578    0.735249      0.766578\n",
      "f1-score     0.821862    0.661538  0.766578    0.741700      0.755096\n",
      "support    220.000000  157.000000  0.766578  377.000000    377.000000\n",
      "\n",
      "Random Forest with min of 10 samples per leaf and max depth of 2:\n",
      "                    0           1  accuracy   macro avg  weighted avg\n",
      "precision    0.780392    0.827869  0.795756    0.804131      0.800164\n",
      "recall       0.904545    0.643312  0.795756    0.773929      0.795756\n",
      "f1-score     0.837895    0.724014  0.795756    0.780955      0.790470\n",
      "support    220.000000  157.000000  0.795756  377.000000    377.000000\n",
      "\n",
      "Random Forest with min of 10 samples per leaf and max depth of 3:\n",
      "                    0           1  accuracy   macro avg  weighted avg\n",
      "precision    0.796748    0.816794  0.803714    0.806771      0.805096\n",
      "recall       0.890909    0.681529  0.803714    0.786219      0.803714\n",
      "f1-score     0.841202    0.743056  0.803714    0.792129      0.800329\n",
      "support    220.000000  157.000000  0.803714  377.000000    377.000000\n",
      "\n",
      "Random Forest with min of 10 samples per leaf and max depth of 4:\n",
      "                    0           1  accuracy   macro avg  weighted avg\n",
      "precision    0.796813    0.841270  0.811671    0.819041      0.815327\n",
      "recall       0.909091    0.675159  0.811671    0.792125      0.811671\n",
      "f1-score     0.849257    0.749117  0.811671    0.799187      0.807554\n",
      "support    220.000000  157.000000  0.811671  377.000000    377.000000\n",
      "\n",
      "Random Forest with min of 10 samples per leaf and max depth of 5:\n",
      "                    0           1  accuracy   macro avg  weighted avg\n",
      "precision    0.800797    0.849206  0.816976    0.825002      0.820957\n",
      "recall       0.913636    0.681529  0.816976    0.797583      0.816976\n",
      "f1-score     0.853503    0.756184  0.816976    0.804843      0.812975\n",
      "support    220.000000  157.000000  0.816976  377.000000    377.000000\n",
      "\n",
      "Random Forest with min of 10 samples per leaf and max depth of 6:\n",
      "                    0           1  accuracy   macro avg  weighted avg\n",
      "precision    0.808765    0.865079  0.827586    0.836922      0.832217\n",
      "recall       0.922727    0.694268  0.827586    0.808497      0.827586\n",
      "f1-score     0.861996    0.770318  0.827586    0.816157      0.823817\n",
      "support    220.000000  157.000000  0.827586  377.000000    377.000000\n",
      "\n",
      "Random Forest with min of 10 samples per leaf and max depth of 7:\n",
      "                    0           1  accuracy   macro avg  weighted avg\n",
      "precision    0.820717    0.888889  0.843501    0.854803      0.849107\n",
      "recall       0.936364    0.713376  0.843501    0.824870      0.843501\n",
      "f1-score     0.874735    0.791519  0.843501    0.833127      0.840080\n",
      "support    220.000000  157.000000  0.843501  377.000000    377.000000\n",
      "\n",
      "Random Forest with min of 10 samples per leaf and max depth of 8:\n",
      "                    0           1  accuracy   macro avg  weighted avg\n",
      "precision    0.822581    0.875969  0.840849    0.849275      0.844814\n",
      "recall       0.927273    0.719745  0.840849    0.823509      0.840849\n",
      "f1-score     0.871795    0.790210  0.840849    0.831002      0.837819\n",
      "support    220.000000  157.000000  0.840849  377.000000    377.000000\n",
      "\n",
      "Random Forest with min of 10 samples per leaf and max depth of 9:\n",
      "                    0           1  accuracy   macro avg  weighted avg\n",
      "precision    0.822581    0.875969  0.840849    0.849275      0.844814\n",
      "recall       0.927273    0.719745  0.840849    0.823509      0.840849\n",
      "f1-score     0.871795    0.790210  0.840849    0.831002      0.837819\n",
      "support    220.000000  157.000000  0.840849  377.000000    377.000000\n",
      "\n"
     ]
    }
   ],
   "source": [
    "for n in range(2, 11):\n",
    "    for i in range(1, 10):\n",
    "        rf = RandomForestClassifier(min_samples_leaf=n, max_depth=i, random_state=123)\n",
    "        rf.fit(x_train, y_train)\n",
    "        y_pred = rf.predict(x_train)\n",
    "        class_report = sklearn.metrics.classification_report(y_train, y_pred, output_dict=True)\n",
    "        print(f'Random Forest with min of {n} samples per leaf and max depth of {i}:')\n",
    "        print(pd.DataFrame(class_report))\n",
    "        print()"
   ]
  },
  {
   "cell_type": "markdown",
   "id": "83546a54",
   "metadata": {},
   "source": [
    "#### 5. What are the differences in the evaluation metrics? Which performs better on your in-sample data? Why?"
   ]
  },
  {
   "cell_type": "code",
   "execution_count": null,
   "id": "4e9f0a3c",
   "metadata": {},
   "outputs": [],
   "source": []
  },
  {
   "cell_type": "markdown",
   "id": "e5bc0884",
   "metadata": {},
   "source": [
    "#### After making a few models, which one has the best performance (or closest metrics) on both train and validate?"
   ]
  },
  {
   "cell_type": "code",
   "execution_count": null,
   "id": "332164bf",
   "metadata": {},
   "outputs": [],
   "source": []
  },
  {
   "cell_type": "code",
   "execution_count": null,
   "id": "5e49b818",
   "metadata": {},
   "outputs": [],
   "source": []
  }
 ],
 "metadata": {
  "kernelspec": {
   "display_name": "Python 3",
   "language": "python",
   "name": "python3"
  },
  "language_info": {
   "codemirror_mode": {
    "name": "ipython",
    "version": 3
   },
   "file_extension": ".py",
   "mimetype": "text/x-python",
   "name": "python",
   "nbconvert_exporter": "python",
   "pygments_lexer": "ipython3",
   "version": "3.8.8"
  }
 },
 "nbformat": 4,
 "nbformat_minor": 5
}
